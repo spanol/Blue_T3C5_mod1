{
  "nbformat": 4,
  "nbformat_minor": 0,
  "metadata": {
    "colab": {
      "name": "Resoluçãoexerciciosaula3.ipynb",
      "provenance": [],
      "include_colab_link": true
    },
    "kernelspec": {
      "name": "python3",
      "display_name": "Python 3"
    },
    "language_info": {
      "name": "python"
    }
  },
  "cells": [
    {
      "cell_type": "markdown",
      "metadata": {
        "id": "view-in-github",
        "colab_type": "text"
      },
      "source": [
        "<a href=\"https://colab.research.google.com/github/spanol/Blue_T3C5_mod1/blob/main/Resolu%C3%A7%C3%A3oexerciciosaula3.ipynb\" target=\"_parent\"><img src=\"https://colab.research.google.com/assets/colab-badge.svg\" alt=\"Open In Colab\"/></a>"
      ]
    },
    {
      "cell_type": "markdown",
      "metadata": {
        "id": "DJ12eHQJSu3I"
      },
      "source": [
        "01 - Considere a string A = \"Os limites só existem se você os deixar existir.(goku)\".\n",
        "\n",
        "Que fatia corresponde a (goku)?\n"
      ]
    },
    {
      "cell_type": "code",
      "metadata": {
        "colab": {
          "base_uri": "https://localhost:8080/"
        },
        "id": "bT_K4ObeSreo",
        "outputId": "8c19ba78-dc92-48ec-b355-e46611d1a957"
      },
      "source": [
        "A = \"Os limites só existem se você os deixar existir.(goku)\"\n",
        "\n",
        "print(A[48:54])\n"
      ],
      "execution_count": null,
      "outputs": [
        {
          "output_type": "stream",
          "text": [
            "(goku)\n"
          ],
          "name": "stdout"
        }
      ]
    },
    {
      "cell_type": "markdown",
      "metadata": {
        "id": "OUIy5N04VcVV"
      },
      "source": [
        "\n",
        "02 - Escreva um programa que solicite uma frase ao usuário e escreva a frase toda em maiúscula e sem espaços em branco.\n"
      ]
    },
    {
      "cell_type": "markdown",
      "metadata": {
        "id": "NTcM0Fs6t-YK"
      },
      "source": [
        ""
      ]
    },
    {
      "cell_type": "code",
      "metadata": {
        "colab": {
          "base_uri": "https://localhost:8080/"
        },
        "id": "6bq6tIRLVeCp",
        "outputId": "bef36ddb-cdc3-4af8-91d7-6fc42539b5e5"
      },
      "source": [
        "frase = input(\"Digite uma frase: \\n\")\n",
        "print(frase.upper().replace(\" \",\"\"))"
      ],
      "execution_count": null,
      "outputs": [
        {
          "output_type": "stream",
          "text": [
            "Digite uma frase: \n",
            "cherequemos\n",
            "CHEREQUEMOS\n"
          ],
          "name": "stdout"
        }
      ]
    }
  ]
}